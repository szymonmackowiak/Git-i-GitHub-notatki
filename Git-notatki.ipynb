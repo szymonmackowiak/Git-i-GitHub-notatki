{
 "cells": [
  {
   "cell_type": "markdown",
   "metadata": {},
   "source": [
    "# Korzystanie z Git na zasobach lokalnych\n",
    "\n",
    "### 1. Najczęściej wykorzystywane komendy:\n",
    "- git clone https:…\n",
    "- git status\n",
    "- git commit -a -m „komentarz”\n",
    "- git config —global user.name „Twoje imię”\n",
    "- git config —global user.email user@host.pl\n",
    "- git config —list\n",
    "- git log -2 (lub bez argumentu)\n",
    "- git push origin main\n"
   ]
  },
  {
   "cell_type": "markdown",
   "metadata": {},
   "source": [
    "### 2. Logowanie (łączenie) lokalnego Gita z GitHubem\n",
    "\n",
    "Warto wcześniej wygenerować token na stronie: https://github.com/settings/tokens <br>\n",
    "Jeżeli korzystamy z systemu macOS to znakomitym ułatwieniem jest program gh, który można zainstalować za pomocą managera brew:\n",
    "<pre>brew install gh</pre>\n",
    "<br>\n",
    "Po zainstalowaniu programu gh łączenie i autoryzacja w serwisie GitHub z poziomu lokalnego Gita odbywa się za pomocą polecenia \n",
    "<pre>\n",
    "gh auth login\n",
    "</pre>\n",
    "Następnie program gh przeprowadzi nas przez etap autoryzacji."
   ]
  },
  {
   "cell_type": "markdown",
   "metadata": {},
   "source": [
    "### 3. Kolonowanie repozytorium\n",
    "Proponowany workflow związany z zakładaniem i klonowaniem repozytoriów:\n",
    "- najpierw założyć repozytorium w serwisie GitHub\n",
    "- po wejściu na stronę repozytorium kliknąć w zielony przycisk CODE i skopiować adres https danego repozytorium\n",
    "- przejść na lokalnym komputerze do katalogu w którym trzymane są projekty śledzone systemem kontroli wersji\n",
    "- bez zakładania nowego katalogu, z poziomu katalogu projektów wywołać w konsoli polecenie:\n",
    "<pre>\n",
    "git clone https:...(pełny adres repozytorium)\n",
    "</pre>\n",
    "- wskazany katalog zostanie skopiowany z serwisu GitHub, a jego zawartość pojawi się na naszych zasobach lokalnych."
   ]
  },
  {
   "cell_type": "markdown",
   "metadata": {},
   "source": [
    "### 4. Tworzenie migawek \n",
    "Do tworzenia migawek (czyli kolejnych kopii projektu) służy polecenie commit. Jednak aby z niego skorzystać należy przejść następujące kroki:\n",
    "1. Sprawdzamy status repozytorium za pomocą polecenia:\n",
    "<pre>\n",
    "git status\n",
    "</pre>\n",
    "To polecenie wskaże nam jakie pliki są śledzone przez system Git (zaznaczone na zielono), a jakie nie (zaznaczone na czerwono). \n",
    "2. Dodajemy nieśledzone pliki za pomocą polecenia add:\n",
    "<pre>\n",
    "git add (nazwa_pliku_do_śledzenia)\n",
    "</pre>\n",
    "lub możemy od razu kazać śledzić wszystkie pliki za pomocą polecenia:\n",
    "<pre>\n",
    "git add *\n",
    "</pre>\n",
    "3. Możemy ponownie sprawdzić stan repozytorium za pomocą polecenia:\n",
    "<pre>\n",
    "git status\n",
    "</pre>\n",
    "4. Tworzymy migawkę za pomocą polecenia:\n",
    "<pre>\n",
    "git commit -a -m \"komentarz do migawki\"\n",
    "</pre>\n",
    "Komentarz jest istotną częścią każdej migawki, ponieważ daje ona możliwość orientacji w zmianach jakie były wprowadzane na kolejnych etapach ewolucji projektu. Z tego względu są one obowiązkowe i należy je traktować poważnie.\n"
   ]
  },
  {
   "cell_type": "markdown",
   "metadata": {},
   "source": [
    "### 5. Wypychanie migawek z zasobów lokalnych do serwisu GitHub\n",
    "Aby wypchnąć utworzoną migawkę do serwisu GitHub należy skorzystać z polecenia push. Należy przy tym wskazać gałąź projektu do której mają być dołączone zmiany:\n",
    "<pre>\n",
    "git push origin main\n",
    "</pre>"
   ]
  },
  {
   "cell_type": "code",
   "execution_count": null,
   "metadata": {},
   "outputs": [],
   "source": []
  }
 ],
 "metadata": {
  "kernelspec": {
   "display_name": "Markdown",
   "language": "markdown",
   "name": "markdown"
  },
  "language_info": {
   "codemirror_mode": "markdown",
   "file_extension": ".md",
   "mimetype": "text/markdown",
   "name": "Markdown",
   "pygments_lexer": "markdown"
  }
 },
 "nbformat": 4,
 "nbformat_minor": 4
}
